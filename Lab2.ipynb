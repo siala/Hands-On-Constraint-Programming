{
 "cells": [
  {
   "cell_type": "markdown",
   "metadata": {},
   "source": [
    "# Lab 2 - Boosting Search via Symmetry Breaking, Randomisation, and Restarts \n"
   ]
  },
  {
   "cell_type": "markdown",
   "metadata": {},
   "source": [
    "Congratulations! you are now __LEVEL ONE__ constraint programmer! You have learned the basics of modeling problems, displaying solutions, evaluating models, and selecting effective branching strategies.\n",
    "\n",
    "In this tutorial we slowly dive into advanced techniques. We also use arithmetic constraints and solve optimisation problems."
   ]
  },
  {
   "cell_type": "code",
   "execution_count": 1,
   "metadata": {},
   "outputs": [],
   "source": [
    "#Configuration: \n",
    "from docplex.cp.model import *\n",
    "context.solver.agent = 'local'\n",
    "#context.solver.local.execfile = '/Users/msiala/Applications/CPLEX_Studio2211/cpoptimizer/bin/arm64_osx/cpoptimizer'\n",
    "#If you use the solver in INSA\n",
    "context.solver.local.execfile = '/usr/local/insa/ibm_cplex_studio_2211/cpoptimizer/bin/x86-64_linux/cpoptimizer'\n",
    "context.params.set_attribute('Presolve', 'Off')\n",
    "context.params.set_attribute('Workers', 1)\n",
    "context.verbose = 0"
   ]
  },
  {
   "cell_type": "markdown",
   "metadata": {},
   "source": [
    "## Part 1: The Golomb Ruler\n",
    "\n",
    "Your goal is to place $N$ marks on a ruler, such that no two marks are at the same distance and the total length of the ruler (the position of the last mark) is minimized. \n",
    "\n",
    "<div class=\"row\" style=\"margin-top: 10px\">\n",
    "    <img src=\"display/images/Golomb_Ruler-4.svg\" style=\"display: block; margin: auto; width: 400px;\" />\n",
    "    <p style=\"margin: auto; margin-top: 10px; text-align: center;\">Golomb ruler of order 4 and length 6. This ruler is both optimal and perfect.</p>\n",
    "</div>\n",
    "\n",
    "Golomb ruler can be used in information theory to design error correcting codes or in telecommunications to avoid interferences during radio communications. You can read about it here https://en.wikipedia.org/wiki/Golomb_ruler#:~:targetText=In%20mathematics%2C%20a%20Golomb%20ruler,are%20the%20same%20distance%20apart.&targetText=It%20has%20been%20proven%20that,of%20the%20same%20order%20exists."
   ]
  },
  {
   "cell_type": "markdown",
   "metadata": {},
   "source": [
    "\n",
    "**Start by setting the search exploration to depth first\n",
    "\n",
    "```\n",
    "SearchType= 'DepthFirst'\n",
    "```\n",
    "\n",
    "Also, in order to control the level of filtering (arc consistency, bound consistency, etc), The solver uses a parameter called $DefaultInferenceLevel$  http://ibmdecisionoptimization.github.io/docplex-doc/cp/docplex.cp.parameters.py.html?highlight=defaultinferencelevel#docplex.cp.parameters.CpoParameters.DefaultInferenceLevel\n",
    "\n",
    "\n",
    "```\n",
    "DefaultInferenceLevel=Low\n",
    "DefaultInferenceLevel=Medium\n",
    "DefaultInferenceLevel=Extended\n",
    "\n",
    "```\n",
    "You should try the different possibilities throughout this tutorial\n"
   ]
  },
  {
   "cell_type": "markdown",
   "metadata": {},
   "source": [
    "Create a model for the decision version of this problem. That is, given $n$ marks, and a ruler of size $m$, place the $n$ markers such that no two markers have the same distance. \n",
    "\n",
    "Use __one line__ to declare the variables and __one line__ to model all the constraints. \n",
    "\n",
    "Note that for N marks, a ruler of length $2 ^ {N -1}$ can be found ( why?). \n",
    "\n",
    "Write a function $decision\\_model(n,m)$ that builds and returns the correspondant model. "
   ]
  },
  {
   "cell_type": "code",
   "execution_count": 2,
   "metadata": {},
   "outputs": [],
   "source": []
  },
  {
   "cell_type": "markdown",
   "metadata": {},
   "source": [
    "Solve the problem for n=4, m=6. Then try different values of (n,m) (just for illustration). "
   ]
  },
  {
   "cell_type": "code",
   "execution_count": null,
   "metadata": {},
   "outputs": [],
   "source": []
  },
  {
   "cell_type": "markdown",
   "metadata": {},
   "source": [
    "You can display a solution using  :  \n",
    "\n",
    "```\n",
    "from display import golomb as display_golomb\n",
    "display_golomb([sol[m] for m in marks])\n",
    "```"
   ]
  },
  {
   "cell_type": "code",
   "execution_count": null,
   "metadata": {},
   "outputs": [],
   "source": []
  },
  {
   "cell_type": "code",
   "execution_count": 5,
   "metadata": {},
   "outputs": [],
   "source": []
  },
  {
   "cell_type": "markdown",
   "metadata": {},
   "source": [
    "Print and display some solutions for (n,m) = (4,6) and (4,7)"
   ]
  },
  {
   "cell_type": "code",
   "execution_count": null,
   "metadata": {},
   "outputs": [],
   "source": []
  },
  {
   "cell_type": "code",
   "execution_count": null,
   "metadata": {},
   "outputs": [],
   "source": []
  },
  {
   "cell_type": "code",
   "execution_count": null,
   "metadata": {},
   "outputs": [],
   "source": []
  },
  {
   "cell_type": "markdown",
   "metadata": {},
   "source": [
    "# Part 2: Evaluation\n",
    "\n",
    "## Question 1 \n",
    "Write a funtion  basic_optimisation_model(n) that builds and returns a model for the following \n",
    "optimisation problem: Given $n$ marks, find the shortest Golomb ruler. \n",
    "\n",
    "Note that optimising a function is equivalent to optimising a variable. In order to specify the variable to optimise, we can simply use : \n",
    "\n",
    "```\n",
    "model.add(model.minimize(myvariable))\n",
    "```\n",
    "\n",
    "or \n",
    "\n",
    "```\n",
    "model.add(model.maximize(myvariable))\n",
    "```\n"
   ]
  },
  {
   "cell_type": "code",
   "execution_count": 9,
   "metadata": {},
   "outputs": [],
   "source": []
  },
  {
   "cell_type": "markdown",
   "metadata": {},
   "source": [
    "## Question 2: \n",
    "\n",
    "Test your function with some use cases and print the objective values"
   ]
  },
  {
   "cell_type": "code",
   "execution_count": null,
   "metadata": {},
   "outputs": [],
   "source": []
  },
  {
   "cell_type": "markdown",
   "metadata": {},
   "source": [
    "## Question 3: \n",
    "Solve the optimisation problem for $N\\in \\{4.. 8\\} $ and display the cpu time and the number of nodes. "
   ]
  },
  {
   "cell_type": "code",
   "execution_count": null,
   "metadata": {},
   "outputs": [],
   "source": []
  },
  {
   "cell_type": "markdown",
   "metadata": {},
   "source": [
    "## Question 4: \n",
    "Compare the lowest and the strongest filtering levels (CPU time and number of nodes) on some examples"
   ]
  },
  {
   "cell_type": "code",
   "execution_count": 13,
   "metadata": {},
   "outputs": [],
   "source": []
  },
  {
   "cell_type": "code",
   "execution_count": null,
   "metadata": {},
   "outputs": [],
   "source": []
  },
  {
   "cell_type": "code",
   "execution_count": null,
   "metadata": {},
   "outputs": [],
   "source": []
  },
  {
   "cell_type": "code",
   "execution_count": null,
   "metadata": {},
   "outputs": [],
   "source": []
  },
  {
   "cell_type": "markdown",
   "metadata": {},
   "source": [
    "## Question 5: \n",
    "### Symmetry Breaking"
   ]
  },
  {
   "cell_type": "markdown",
   "metadata": {},
   "source": [
    "In combinatorial optimisation, two search spaces $S_1$ and $S_2$ are symmetric if there exists a bijection between the solutions of $S_1$ and $S_2$. Therefore, when exploring the search space, it is desirable to figure out symmetric search spaces in order to avoid redundant exploration. \n",
    "\n",
    "\n",
    "Consider our Golomb ruler problem. Given any solution, if the first mark is not at index $0$, we can always shift everything to the left to start from $0$ and still have a solution. \n",
    "\n",
    "Constraint programming is extremely flexible to handle symmetries since they can be declared as constraints. \n",
    "\n",
    "In the case of the above symmetry, we can simply add \n",
    "```\n",
    "model.add (marks[0]==0)\n",
    "```\n",
    "\n",
    "This problem has two other symmetries. Can you find them? In order to help you, display some solutions for n=4 and m=6 for the decision problem. How can we model such symmetries in the form of constraints? "
   ]
  },
  {
   "cell_type": "code",
   "execution_count": null,
   "metadata": {},
   "outputs": [],
   "source": []
  },
  {
   "cell_type": "code",
   "execution_count": null,
   "metadata": {},
   "outputs": [],
   "source": []
  },
  {
   "cell_type": "markdown",
   "metadata": {},
   "source": [
    "## Question 6\n",
    "Write a new function nosymmetry_optimisation_model(n) that builds the new optimisation model that takes into account symmetry breaking. Test your function on some values of $n$"
   ]
  },
  {
   "cell_type": "code",
   "execution_count": 19,
   "metadata": {},
   "outputs": [],
   "source": []
  },
  {
   "cell_type": "code",
   "execution_count": 20,
   "metadata": {},
   "outputs": [],
   "source": []
  },
  {
   "cell_type": "markdown",
   "metadata": {},
   "source": [
    "## Question 7\n",
    "\n",
    "Compare nosymmetry_optimisation_model and basic_optimisation_model for different values of $n$ with the strongest filtering level. Plot the runtime and the search tree size __using matplotlib__"
   ]
  },
  {
   "cell_type": "code",
   "execution_count": null,
   "metadata": {},
   "outputs": [],
   "source": []
  },
  {
   "cell_type": "markdown",
   "metadata": {},
   "source": [
    "## The magic of restarts\n",
    "\n",
    "\n",
    "Combinatorial search exhibits usually a bad behaviour in the runtime distribution called **heavy tailed phenomenon**. \n",
    "That is, at any node of the search tree, there is a non-negligeable probability that the time needed to explore the current subtree is heavier than \n",
    "an exponential distribution (you can read about it here https://aaai.org/Papers/AAAI/1998/AAAI98-061.pdf. \n",
    "\n",
    "\n",
    "A simple solution to deal with such a bad behaviour is to restart search from time to time. \n",
    "CPOptimizer offers this choice by using the parameter: \n",
    "    \n",
    "```\n",
    "    SearchType= 'Restart'\n",
    "```\n",
    "\n"
   ]
  },
  {
   "cell_type": "markdown",
   "metadata": {},
   "source": [
    "What is the maximum value of $n$ for which you can solve this problem within 10 minutes? Use all your techniques! "
   ]
  },
  {
   "cell_type": "code",
   "execution_count": null,
   "metadata": {},
   "outputs": [],
   "source": []
  },
  {
   "cell_type": "markdown",
   "metadata": {},
   "source": [
    "What did you learn today? "
   ]
  },
  {
   "cell_type": "raw",
   "metadata": {
    "vscode": {
     "languageId": "raw"
    }
   },
   "source": []
  }
 ],
 "metadata": {
  "kernelspec": {
   "display_name": "Python 3",
   "language": "python",
   "name": "python3"
  },
  "language_info": {
   "codemirror_mode": {
    "name": "ipython",
    "version": 3
   },
   "file_extension": ".py",
   "mimetype": "text/x-python",
   "name": "python",
   "nbconvert_exporter": "python",
   "pygments_lexer": "ipython3",
   "version": "3.12.4"
  },
  "latex_envs": {
   "LaTeX_envs_menu_present": true,
   "autoclose": false,
   "autocomplete": true,
   "bibliofile": "biblio.bib",
   "cite_by": "apalike",
   "current_citInitial": 1,
   "eqLabelWithNumbers": true,
   "eqNumInitial": 1,
   "hotkeys": {
    "equation": "Ctrl-E",
    "itemize": "Ctrl-I"
   },
   "labels_anchors": false,
   "latex_user_defs": false,
   "report_style_numbering": false,
   "user_envs_cfg": false
  }
 },
 "nbformat": 4,
 "nbformat_minor": 2
}
