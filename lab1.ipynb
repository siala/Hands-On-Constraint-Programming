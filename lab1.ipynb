{
 "cells": [
  {
   "cell_type": "markdown",
   "metadata": {},
   "source": [
    "# Lab 1 - The Basics of Modelling with IBM ILOG CP Optimizer\n"
   ]
  },
  {
   "cell_type": "markdown",
   "metadata": {},
   "source": [
    "Throughout the different tutorials, you should consult regularly the documentation [`docplex` constraint programming documentation](http://ibmdecisionoptimization.github.io/docplex-doc/cp/index.html)."
   ]
  },
  {
   "cell_type": "markdown",
   "metadata": {},
   "source": [
    "\n",
    "You need to run the following code for configuration each time you start the kernel"
   ]
  },
  {
   "cell_type": "code",
   "execution_count": 1,
   "metadata": {},
   "outputs": [],
   "source": [
    "from docplex.cp.model import *\n",
    "context.solver.agent = 'local'\n",
    "#For a personnel machine: \n",
    "#context.solver.local.execfile = '/Users/msiala/Applications/CPLEX_Studio2211/cpoptimizer/bin/arm64_osx/cpoptimizer'\n",
    "#If you use the solver in INSA\n",
    "context.solver.local.execfile = '/usr/local/insa/ibm_cplex_studio_2211/cpoptimizer/bin/x86-64_linux/cpoptimizer'\n",
    "context.params.set_attribute('Presolve', 'Off')\n",
    "context.params.set_attribute('Workers', 1)\n"
   ]
  },
  {
   "cell_type": "markdown",
   "metadata": {},
   "source": [
    "## Hello World"
   ]
  },
  {
   "cell_type": "markdown",
   "metadata": {},
   "source": [
    "Let's start with a simple problem. Consider the following Constraint Satisfaction Problem: \n",
    "\n",
    "- Variables: $x$, $y$, $z$\n",
    "- Domains: $\\cal{D}(x) = \\cal{D}(y) = \\cal{D}(z) = \\left\\{1, 2, 3\\right\\}$ for each variable\n",
    "- Constraints: $x \\ne y$, $x \\ne z$, $y \\ne z$\n",
    "\n",
    "\n",
    "- We first need to import [`CpoModel`](http://ibmdecisionoptimization.github.io/docplex-doc/cp/docplex.cp.model.py.html#docplex.cp.model.CpoModel) from `docplex.cp.model` and create an instance:\n",
    "\n",
    "```python\n",
    "from docplex.cp.model import CpoModel\n",
    "\n",
    "mdl = CpoModel(name='My first docplex model')\n",
    "```\n",
    "\n",
    "- Next, we create the different variables using [`CpoModel.integer_var`](http://ibmdecisionoptimization.github.io/docplex-doc/cp/docplex.cp.expression.py.html#docplex.cp.expression.integer_var), [`CpoModel.integer_var_list`](http://ibmdecisionoptimization.github.io/docplex-doc/cp/docplex.cp.expression.py.html#docplex.cp.expression.integer_var_list) or [`CpoModel.integer_var_dict`](http://ibmdecisionoptimization.github.io/docplex-doc/cp/docplex.cp.expression.py.html#docplex.cp.expression.integer_var_dict).\n",
    "\n",
    "For instance: \n",
    "```python\n",
    "x, y, z = mdl.integer_var_list(3, 1, 3, 'x')\n",
    "```\n",
    "\n",
    "- Finally, we add the constraints using [`CpoModel.add`](http://ibmdecisionoptimization.github.io/docplex-doc/cp/docplex.cp.model.py.html#docplex.cp.model.CpoModel.add). \n",
    "\n",
    "```python\n",
    "mdl.add(x != y)\n",
    "```"
   ]
  },
  {
   "cell_type": "code",
   "execution_count": 2,
   "metadata": {},
   "outputs": [],
   "source": [
    "\n",
    "# Create the model\n",
    "mdl = CpoModel()\n",
    "\n",
    "# Create a list of 3 variables with domain [1 .. 3]\n",
    "x, y, z = mdl.integer_var_list(3, 1, 3, 'L')\n",
    "\n",
    "# Add some constraints\n",
    "mdl.add(x != y)\n",
    "mdl.add(y != z)\n",
    "mdl.add(z != x)"
   ]
  },
  {
   "cell_type": "markdown",
   "metadata": {},
   "source": [
    "\n",
    "- Use [`CpoModel.solve`](http://ibmdecisionoptimization.github.io/docplex-doc/cp/docplex.cp.model.py.html#docplex.cp.model.CpoModel.solve) to solve the model:\n",
    "\n",
    "```python\n",
    "sol = mdl.solve()\n",
    "```\n",
    "\n",
    "- Use [`CpoSolveResult.print_solution`](http://ibmdecisionoptimization.github.io/docplex-doc/cp/docplex.cp.solution.py.html#docplex.cp.solution.CpoSolveResult.print_solution) to print a solution\n",
    "\n",
    "```python\n",
    "sol.print_solution()\n",
    "```\n"
   ]
  },
  {
   "cell_type": "code",
   "execution_count": null,
   "metadata": {},
   "outputs": [],
   "source": [
    "#code here\n",
    "# Solve the model\n",
    "sol = mdl.solve()\n",
    "\n",
    "# Print the solution\n",
    "sol.print_solution()"
   ]
  },
  {
   "cell_type": "markdown",
   "metadata": {},
   "source": [
    "\n",
    "- Value retrieval: [`CpoSolveResult.get_value`](http://ibmdecisionoptimization.github.io/docplex-doc/cp/docplex.cp.solution.py.html#docplex.cp.solution.CpoSolveResult.get_value) or `CpoSolveResult.__getitem__` \n",
    "\n",
    "```python\n",
    "value_of_x = sol.get_value('x0')\n",
    "```\n",
    "Or\n",
    "```python\n",
    "value_of_x = sol[x]\n",
    "```\n",
    "                                   "
   ]
  },
  {
   "cell_type": "code",
   "execution_count": null,
   "metadata": {},
   "outputs": [],
   "source": [
    "#Find the values of x, y, and z\n",
    "value_of_x = sol.get_value('L_0')\n",
    "print (\"value of x is \" ,  value_of_x)\n",
    "\n",
    "value_of_x = sol[x]\n",
    "print (\"value of x is \" ,  value_of_x)\n",
    "\n",
    "#..."
   ]
  },
  {
   "cell_type": "markdown",
   "metadata": {},
   "source": [
    "We can use sol.get_solver_log() to get the solver log and sol.get_solver_infos() to get all the statistics. Note that sol.get_solver_infos()  returns a __dictionary__. \n",
    "\n",
    "We can also check the search status via sol.get_solve_status() "
   ]
  },
  {
   "cell_type": "code",
   "execution_count": null,
   "metadata": {},
   "outputs": [],
   "source": [
    "\n",
    "sol = mdl.solve()\n",
    "\n",
    "print(\"Status \"  ,  sol.get_solve_status() ) \n",
    "print(sol.get_solver_log())\n",
    "print(sol.get_solver_infos() )\n"
   ]
  },
  {
   "cell_type": "markdown",
   "metadata": {},
   "source": [
    "You can call sol.get_solver_infos() to get the different statistics such as the run time, the number of nodes, the number of failures, etc."
   ]
  },
  {
   "cell_type": "code",
   "execution_count": null,
   "metadata": {},
   "outputs": [],
   "source": [
    "print(\"nb decisions \"  , sol.get_solver_infos()['NumberOfChoicePoints'] )\n",
    "print(\"nb fails \"  ,  sol.get_solver_infos()['NumberOfFails'] )\n",
    "print(\"Total runtime \"  ,  sol.get_solver_infos()['TotalTime'] )"
   ]
  },
  {
   "cell_type": "markdown",
   "metadata": {},
   "source": [
    "We can also ask to generate all the solutions as follows: "
   ]
  },
  {
   "cell_type": "code",
   "execution_count": null,
   "metadata": {},
   "outputs": [],
   "source": [
    "for sol in mdl.start_search():\n",
    "    print('x={}, y={}, z={}'.format(sol[x], sol[y], sol[z]))\n"
   ]
  },
  {
   "cell_type": "markdown",
   "metadata": {},
   "source": [
    "## Exercice 1: The AllDifferent Global Constraint \n"
   ]
  },
  {
   "cell_type": "markdown",
   "metadata": {},
   "source": [
    "\n",
    "Consider the following CSP: \n",
    "\n",
    "- Variables $x_1, x_2, \\ldots x_n$\n",
    "- Domains: $\\forall i \\in [1,n], \\cal{D}(x_i) = \\{1, 2 , \\ldots n-1\\}$ \n",
    "- Constraints: $\\forall i \\neq j,  x_i \\ne x_j$\n"
   ]
  },
  {
   "cell_type": "markdown",
   "metadata": {},
   "source": [
    "Without using the solver, is this problem satisfiable? Why? "
   ]
  },
  {
   "cell_type": "markdown",
   "metadata": {},
   "source": [
    "Write a function model_decomposition(n) that takes as input an integer $n$ and returns a model that uses only binary inequalities (i.e., no global constraints)"
   ]
  },
  {
   "cell_type": "code",
   "execution_count": 8,
   "metadata": {},
   "outputs": [],
   "source": []
  },
  {
   "cell_type": "markdown",
   "metadata": {},
   "source": [
    "Call this function for $n= 9$ then solve this problem. How many nodes did the solver explore? What is the CPU time? "
   ]
  },
  {
   "cell_type": "code",
   "execution_count": null,
   "metadata": {},
   "outputs": [],
   "source": []
  },
  {
   "cell_type": "markdown",
   "metadata": {},
   "source": [
    "Write a function $model\\_using\\_alldiff(n)$ that takes as input an integer $n$ and returns the CSP model of this problem using only one ALLDifferent constraint (consult the all_diff constraint in the documentation)."
   ]
  },
  {
   "cell_type": "code",
   "execution_count": 10,
   "metadata": {},
   "outputs": [],
   "source": []
  },
  {
   "cell_type": "markdown",
   "metadata": {},
   "source": [
    "Call this function for  n=9  then solve this problem. How many nodes did the solver explore? Is there a theoretical reason ? "
   ]
  },
  {
   "cell_type": "code",
   "execution_count": null,
   "metadata": {},
   "outputs": [],
   "source": []
  },
  {
   "cell_type": "markdown",
   "metadata": {},
   "source": [
    "Do you start to appretiate global constraints? Why?  "
   ]
  },
  {
   "cell_type": "raw",
   "metadata": {
    "vscode": {
     "languageId": "raw"
    }
   },
   "source": []
  },
  {
   "cell_type": "markdown",
   "metadata": {},
   "source": [
    "We will evaluate properly the two models on a larger scale. For this reason we increase the value of $n$ from 3 to $30$ and plot the runtime and the number of nodes for each model. \n",
    "\n",
    "In order to keep the runtime under control, we will limit the solver to 15 seconds per call. Have a look at the different parameters that can be used in the solve() function. A better and modular way to tune the solving is to use the class CpoParameters. \n",
    "\n",
    "Example : \n",
    "\n",
    "```\n",
    "from docplex.cp.parameters import CpoParameters\n",
    "\n",
    "params = CpoParameters(TimeLimit=10, LogVerbosity=‘Quiet’, LogPeriod=900000)\n",
    "\n",
    "••• \n",
    "sol = model.solve(TimeLimit= params.TimeLimit , LogVerbosity = params.LogVerbosity )\n",
    "\n",
    "\n",
    "```\n",
    "\n",
    "\n",
    "When a solver hits the time timit, it will simply stop the search and says that it couldn't solve the problem within the time limit. \n",
    "\n",
    "To switch off the verbosity completely you should add \n",
    "\n",
    "```\n",
    "context.verbose = 0\n",
    "```\n",
    "along with LogVerbosity='Quiet'\n",
    "\n",
    "Write a function $run(model, params)$ that run the solver on a given model $m$ using parameters $p$. The function returns the tuple of statistics [number of nodes, total runtime, search status]"
   ]
  },
  {
   "cell_type": "code",
   "execution_count": 12,
   "metadata": {},
   "outputs": [],
   "source": []
  },
  {
   "cell_type": "markdown",
   "metadata": {},
   "source": [
    "Using the $run(m, p)$ function, run the two models model_decomposition(n) and model_using_alldiff(n) for $n \\in [3,30]$. Compare the performances of these models (based on the runtime and the search size)"
   ]
  },
  {
   "cell_type": "code",
   "execution_count": null,
   "metadata": {},
   "outputs": [],
   "source": []
  },
  {
   "cell_type": "markdown",
   "metadata": {},
   "source": [
    "What's your overall impression ? what did you learn so far ? "
   ]
  },
  {
   "cell_type": "raw",
   "metadata": {
    "vscode": {
     "languageId": "raw"
    }
   },
   "source": []
  },
  {
   "cell_type": "markdown",
   "metadata": {},
   "source": [
    "## Exercice 2: The Queens & The Art of Branching "
   ]
  },
  {
   "cell_type": "markdown",
   "metadata": {},
   "source": [
    "You are given an N-by-N chessboard, and your goal is to place N chess queens on it so that no two queens threaten each other. That is, a solution requires that no two queens share the same row, column or diagonal.\n",
    "\n",
    "<div class=\"row\" style=\"margin-top: 10px\">\n",
    "    <div class=\"col-md-5\">\n",
    "        <img src=\"display/images/empty-chessboard.png\" style=\"margin-right: 0; width: 160px;\" />\n",
    "    </div>\n",
    "    <div class=\"col-md-2\" style=\"display: table\">\n",
    "        <i class=\"fa fa-arrow-right\" style=\"display: table-cell; font-size: 50px; \n",
    "        margin: auto; text-align: center; vertical-align: middle; height: 150px\"></i>\n",
    "    </div>\n",
    "    <div class=\"col-md-5\">\n",
    "        <img src=\"display/images/nqueens8-chessboard.png\" style=\"margin-left: 0; width: 160px;\" />\n",
    "    </div>\n",
    "</div>\n",
    "\n"
   ]
  },
  {
   "cell_type": "markdown",
   "metadata": {},
   "source": [
    "**Exercice**: Create a function `decomposition_model(N)` that models the problem using only binary inequality constrants (no global constraint) and returns an instance of `CpoModel` for the n-queens problem with `N` queens."
   ]
  },
  {
   "cell_type": "code",
   "execution_count": 14,
   "metadata": {},
   "outputs": [],
   "source": []
  },
  {
   "cell_type": "markdown",
   "metadata": {},
   "source": [
    "Test your function by solving the n-queens problem for small values of $N$ ($< 20$) then print the solution."
   ]
  },
  {
   "cell_type": "code",
   "execution_count": null,
   "metadata": {},
   "outputs": [],
   "source": []
  },
  {
   "cell_type": "markdown",
   "metadata": {},
   "source": [
    "**Question**: How many solutions are there for $N = 3,~\\ldots,~10$? \n",
    "\n",
    "**Note:** To answer this question, you must force the solver to use a depth first strategy: ... start_search(SearchType='DepthFirst')\n"
   ]
  },
  {
   "cell_type": "code",
   "execution_count": null,
   "metadata": {},
   "outputs": [],
   "source": []
  },
  {
   "cell_type": "markdown",
   "metadata": {},
   "source": [
    "### Second model with global constraints"
   ]
  },
  {
   "cell_type": "markdown",
   "metadata": {},
   "source": [
    "Create a function `global_constraint_model(N)` that models and returns an instance of `CpoModel` for the n-queens problem with `N` queens, using **only** and exaclty 3 global constraints."
   ]
  },
  {
   "cell_type": "code",
   "execution_count": 17,
   "metadata": {},
   "outputs": [],
   "source": []
  },
  {
   "cell_type": "markdown",
   "metadata": {},
   "source": [
    "Test your function by solving the n-queens problem for small values of  N  ( <20 )."
   ]
  },
  {
   "cell_type": "code",
   "execution_count": 18,
   "metadata": {},
   "outputs": [],
   "source": []
  },
  {
   "cell_type": "markdown",
   "metadata": {},
   "source": [
    "How many solutions are there for  $N=3, .., 10$ ? (It must be the same number as the previous model)"
   ]
  },
  {
   "cell_type": "code",
   "execution_count": 19,
   "metadata": {},
   "outputs": [],
   "source": []
  },
  {
   "cell_type": "markdown",
   "metadata": {},
   "source": [
    "### Branching strategies\n",
    "\n",
    "\n",
    "Recall that a CP solver is a backtracking solver. At each node, it applies filtering (also called propagation or pruning), then makes a decision about the next node to explore. This decision is a pure heuristic choice. That is, it could be a wrong decision. It's only based on intuition. \n",
    "\n",
    "In CP, a decision usually follows the following steps: \n",
    "- Choose an unassigned variable $x$\n",
    "- Choose a value $v$ from the current domain of $x$, and assign $v$ to $x$. \n",
    "\n",
    "The above steps require a variable heuristic and a value heuristic. This is what we call a __branching strategy__. \n",
    "\n",
    "Branching strategies can be generic (strategies that can be used for any problem), or specific (designed for a specific problem). In CPOptimizer, there are a number of genereic strategies offered. This concerns both variable and value heuristics. \n",
    "\n",
    "\n",
    "For example, if $L$ is the list of decision variables, we can use a variable heuristic that picks the variable $x$ with the smallest domain size, and assigns a random value from its domain to it. For this, we need first to declare and add a search_phase as follows: \n",
    "```\n",
    "SearchPhase= model.search_phase(L, \n",
    "                                varchooser=model.select_smallest(model.domain_size()),\n",
    "                                valuechooser=model.select_random_value())\n",
    "\n",
    "model.add_search_phase(SearchPhase)\n",
    "```\n",
    "\n",
    "Read about the different search strategies and how to use them here: \n",
    "http://ibmdecisionoptimization.github.io/docplex-doc/cp/docplex.cp.modeler.py.html#search-phases\n",
    "\n"
   ]
  },
  {
   "cell_type": "markdown",
   "metadata": {},
   "source": [
    "\n",
    "We want to evaluate some strategies from the following list: \n",
    "\n",
    "For variable evaluators, you can use:  \n",
    " - domain_size() \n",
    " - var_impact()\n",
    " - var_local_impact() \n",
    " - var_index()\n",
    " \n",
    "For value evaluators, you can use: \n",
    " - value_impact()\n",
    " - value_index()\n",
    " \n",
    "As for the selectors you can use: \n",
    "- select_smallest() \n",
    "- select_largest ()\n",
    "\n",
    "\n",
    "You can also use random heuristics. "
   ]
  },
  {
   "cell_type": "markdown",
   "metadata": {},
   "source": [
    "__Question__: Using the global constraints model, evaluate __two__ different strategies of your choice for different values of $N$ (in terms of the search space and the runtime).\n",
    "\n",
    "#### Proposed setting: \n",
    "- Time limit 10s for each call \n",
    "- Start from n=500 with a step size 20\n",
    "- No log for faster execution  (for instance by using LogVerbosity='Quiet')\n",
    "- SearchType='DepthFirst' (We will investigate deeply this choice in the next tutorial)"
   ]
  },
  {
   "cell_type": "code",
   "execution_count": null,
   "metadata": {},
   "outputs": [],
   "source": []
  },
  {
   "cell_type": "markdown",
   "metadata": {},
   "source": [
    "Is this what you expect? Is the choice of the branching strategy important? Justify"
   ]
  },
  {
   "cell_type": "markdown",
   "metadata": {},
   "source": []
  },
  {
   "cell_type": "markdown",
   "metadata": {},
   "source": [
    "What did you learn today ? "
   ]
  },
  {
   "cell_type": "markdown",
   "metadata": {},
   "source": []
  }
 ],
 "metadata": {
  "kernelspec": {
   "display_name": "Python 3",
   "language": "python",
   "name": "python3"
  },
  "language_info": {
   "codemirror_mode": {
    "name": "ipython",
    "version": 3
   },
   "file_extension": ".py",
   "mimetype": "text/x-python",
   "name": "python",
   "nbconvert_exporter": "python",
   "pygments_lexer": "ipython3",
   "version": "3.12.4"
  }
 },
 "nbformat": 4,
 "nbformat_minor": 2
}
